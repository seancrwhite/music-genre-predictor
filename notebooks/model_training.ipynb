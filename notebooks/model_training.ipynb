{
 "cells": [
  {
   "cell_type": "markdown",
   "metadata": {},
   "source": [
    "# Model Training"
   ]
  },
  {
   "cell_type": "markdown",
   "metadata": {},
   "source": [
    "This notebook is a continuation of the model_selection page in which we attempted to train several prepackaged Scikit-Learn models on our feature data. None of the models we found were much more effective than random chance at predicting our features, if they were better at all. In the end we concluded that our system must be non-linear, thus in this noetbook we will be using Keras to build a deep learning solution to this system."
   ]
  },
  {
   "cell_type": "markdown",
   "metadata": {},
   "source": [
    "### Linear vs Non-Linear Optimization"
   ]
  },
  {
   "cell_type": "markdown",
   "metadata": {},
   "source": [
    "All machine learning can be considered mathematical optimization. Even neural networks, though often spoken of as \"simulations\" of human brains, can only really be considered homages to organic brains. In our last notebook we were treating our data as a linear system, which would make machine learning (relatively) simple as each input has a single, clear output for the algorithm to attempt to estimate. It would have been very nice if this was the case, as a nonlinear system could have results that are not linearly seperable and are therefore not able to be solved with the same methods."
   ]
  },
  {
   "cell_type": "markdown",
   "metadata": {},
   "source": [
    "### Deep Learning"
   ]
  },
  {
   "cell_type": "markdown",
   "metadata": {},
   "source": [
    "Deep neural networks have been used to model nonlinear systems and relationships in the past. They are particularly useful in image recognition, natural language processing, and more, and since we are using the Mel-spectrum to represent our music data we may be able to use the same systems here. Ultimately, a DNN is very similar to an ANN, with the exception that the DNN has many hidden layers between the input and output layers. Historically, convolutional neural networks have been used to solve genre classification problem in both single and multi-label contexts, so we will be exploring them here in combination with recurrent neural networks which are able to analyze time sequence data."
   ]
  },
  {
   "cell_type": "markdown",
   "metadata": {},
   "source": [
    "### Keras"
   ]
  },
  {
   "cell_type": "markdown",
   "metadata": {},
   "source": [
    "Keras is a python API for building deep learning machine learning models with strong support for both convolutional and recurrent neural networks. It was built on top of the popular Theano library and effectively acts as a wrapper for it, however newer releases also allow for integration with Google's TensorFlow library instead. We will be using it to build our DNN below. It can be run on either CPU or GPU, we will be using the CPU option due to technical and budget limitations."
   ]
  },
  {
   "cell_type": "markdown",
   "metadata": {},
   "source": [
    "### Creation of DLGINN, the Deep Learning Genre Identification Neural Network"
   ]
  },
  {
   "cell_type": "code",
   "execution_count": 13,
   "metadata": {},
   "outputs": [],
   "source": [
    "import numpy as np\n",
    "import mysql.connector as dbc\n",
    "from sklearn.model_selection import train_test_split\n",
    "from keras.models import Sequential\n",
    "from keras.layers.normalization import BatchNormalization\n",
    "from keras.layers.advanced_activations import ELU\n",
    "from keras.layers import Conv2D, MaxPooling2D, Flatten, Dense, Dropout, ZeroPadding2D"
   ]
  },
  {
   "cell_type": "markdown",
   "metadata": {},
   "source": [
    "We need to re import all of our data, so we will reuse the code from model_selection (see model_selection.ipynb for more information on the cell below)"
   ]
  },
  {
   "cell_type": "code",
   "execution_count": 2,
   "metadata": {},
   "outputs": [
    {
     "name": "stdout",
     "output_type": "stream",
     "text": [
      "(262400, 1291)\n"
     ]
    }
   ],
   "source": [
    "datapath = '/home/seancrwhite/HDD/Data/fma/data/db/melgrams.csv'\n",
    "\n",
    "data = np.loadtxt(datapath, delimiter=',')\n",
    "\n",
    "print(data.shape)"
   ]
  },
  {
   "cell_type": "code",
   "execution_count": 4,
   "metadata": {},
   "outputs": [],
   "source": [
    "ids = np.reshape(data[:, 0], (1, 262400))\n",
    "data = np.reshape(data[:, 1:], (2050, 128, 1290, 1))"
   ]
  },
  {
   "cell_type": "code",
   "execution_count": 5,
   "metadata": {},
   "outputs": [],
   "source": [
    "u_ids = []\n",
    "i = 0\n",
    "\n",
    "for s_id in ids[0]:\n",
    "    if i % 128 == 0:\n",
    "        u_ids.append(int(s_id))\n",
    "    i = i + 1"
   ]
  },
  {
   "cell_type": "code",
   "execution_count": 6,
   "metadata": {},
   "outputs": [],
   "source": [
    "db = dbc.connect(port=3306,\n",
    "                 user=\"root\",\n",
    "                 passwd=\"password\",\n",
    "                 db=\"SONG\")\n",
    "cursor = db.cursor()\n",
    "\n",
    "labels = []\n",
    "idxs = []\n",
    "\n",
    "for s_id in u_ids: \n",
    "    query = \"select * from SONG.GENRES where s_id={}\".format(s_id)\n",
    "    cursor.execute(query)\n",
    "    \n",
    "    row = cursor.fetchone()\n",
    "    \n",
    "    if row is None:\n",
    "        idxs.append(u_ids.index(s_id))\n",
    "    else:\n",
    "        labels.append(row)\n",
    "\n",
    "labels = np.array(labels)\n",
    "labels = labels[:,1:]"
   ]
  },
  {
   "cell_type": "code",
   "execution_count": 7,
   "metadata": {},
   "outputs": [],
   "source": [
    "idxs = sorted(idxs, reverse=True)\n",
    "\n",
    "for idx in idxs:\n",
    "    data = np.delete(data, idx, 0)"
   ]
  },
  {
   "cell_type": "code",
   "execution_count": 8,
   "metadata": {},
   "outputs": [
    {
     "name": "stdout",
     "output_type": "stream",
     "text": [
      "(1973, 16)\n",
      "(1973, 128, 1290, 1)\n"
     ]
    }
   ],
   "source": [
    "print(labels.shape)\n",
    "print(data.shape)"
   ]
  },
  {
   "cell_type": "code",
   "execution_count": 9,
   "metadata": {},
   "outputs": [
    {
     "name": "stdout",
     "output_type": "stream",
     "text": [
      "(1321, 128, 1290, 1)\n"
     ]
    }
   ],
   "source": [
    "X_train, X_test, y_train, y_test = train_test_split(data, labels, test_size=0.33, random_state=73)\n",
    "print(X_train.shape)"
   ]
  },
  {
   "cell_type": "markdown",
   "metadata": {},
   "source": [
    "Now we can begin building our model, piece by piece, using the Keras Sequential object. Architecture of CNN outlined by Keunwoo Choi, George Fazekas, and Mark Sandler here: https://arxiv.org/abs/1606.00298"
   ]
  },
  {
   "cell_type": "code",
   "execution_count": 16,
   "metadata": {},
   "outputs": [
    {
     "name": "stdout",
     "output_type": "stream",
     "text": [
      "_________________________________________________________________\n",
      "Layer (type)                 Output Shape              Param #   \n",
      "=================================================================\n",
      "input (BatchNormalization)   (None, 128, 1290, 1)      512       \n",
      "_________________________________________________________________\n",
      "conv1 (Conv2D)               (None, 126, 1288, 32)     320       \n",
      "_________________________________________________________________\n",
      "batch_normalization_21 (Batc (None, 126, 1288, 32)     128       \n",
      "_________________________________________________________________\n",
      "elu_7 (ELU)                  (None, 126, 1288, 32)     0         \n",
      "_________________________________________________________________\n",
      "pool1 (MaxPooling2D)         (None, 63, 322, 32)       0         \n",
      "_________________________________________________________________\n",
      "conv2 (Conv2D)               (None, 61, 320, 32)       9248      \n",
      "_________________________________________________________________\n",
      "batch_normalization_22 (Batc (None, 61, 320, 32)       128       \n",
      "_________________________________________________________________\n",
      "elu_8 (ELU)                  (None, 61, 320, 32)       0         \n",
      "_________________________________________________________________\n",
      "pool2 (MaxPooling2D)         (None, 20, 80, 32)        0         \n",
      "_________________________________________________________________\n",
      "conv3 (Conv2D)               (None, 18, 78, 32)        9248      \n",
      "_________________________________________________________________\n",
      "batch_normalization_23 (Batc (None, 18, 78, 32)        128       \n",
      "_________________________________________________________________\n",
      "elu_9 (ELU)                  (None, 18, 78, 32)        0         \n",
      "_________________________________________________________________\n",
      "pool3 (MaxPooling2D)         (None, 9, 15, 32)         0         \n",
      "_________________________________________________________________\n",
      "conv4 (Conv2D)               (None, 7, 13, 32)         9248      \n",
      "_________________________________________________________________\n",
      "batch_normalization_24 (Batc (None, 7, 13, 32)         128       \n",
      "_________________________________________________________________\n",
      "elu_10 (ELU)                 (None, 7, 13, 32)         0         \n",
      "_________________________________________________________________\n",
      "pool4 (MaxPooling2D)         (None, 3, 3, 32)          0         \n",
      "_________________________________________________________________\n",
      "conv5 (Conv2D)               (None, 1, 1, 32)          9248      \n",
      "_________________________________________________________________\n",
      "batch_normalization_25 (Batc (None, 1, 1, 32)          128       \n",
      "_________________________________________________________________\n",
      "elu_11 (ELU)                 (None, 1, 1, 32)          0         \n",
      "_________________________________________________________________\n",
      "pool5 (MaxPooling2D)         (None, 1, 1, 32)          0         \n",
      "_________________________________________________________________\n",
      "flatten_1 (Flatten)          (None, 32)                0         \n",
      "_________________________________________________________________\n",
      "output (Dense)               (None, 16)                528       \n",
      "=================================================================\n",
      "Total params: 38,992\n",
      "Trainable params: 38,416\n",
      "Non-trainable params: 576\n",
      "_________________________________________________________________\n"
     ]
    }
   ],
   "source": [
    "model = Sequential()\n",
    "\n",
    "model.add(BatchNormalization(axis=1, input_shape=(128, 1290, 1), name='input'))\n",
    "\n",
    "model.add(Conv2D(32, (3, 3), name='conv1'))\n",
    "model.add(BatchNormalization(axis=3))\n",
    "model.add(ELU(alpha=1.0))\n",
    "model.add(MaxPooling2D(pool_size=(2, 4), name='pool1'))\n",
    "\n",
    "model.add(Conv2D(32, (3, 3), name='conv2'))\n",
    "model.add(BatchNormalization(axis=3))\n",
    "model.add(ELU(alpha=1.0))\n",
    "model.add(MaxPooling2D(pool_size=(3, 4), name='pool2'))\n",
    "\n",
    "model.add(Conv2D(32, (3, 3), name='conv3'))\n",
    "model.add(BatchNormalization(axis=3))\n",
    "model.add(ELU(alpha=1.0))\n",
    "model.add(MaxPooling2D(pool_size=(2, 5), name='pool3'))\n",
    "\n",
    "model.add(Conv2D(32, (3, 3), name='conv4'))\n",
    "model.add(BatchNormalization(axis=3))\n",
    "model.add(ELU(alpha=1.0))\n",
    "model.add(MaxPooling2D(pool_size=(2, 4), name='pool4'))\n",
    "\n",
    "model.add(Conv2D(32, (3, 3), activation='elu', name='conv5'))\n",
    "model.add(BatchNormalization(axis=3))\n",
    "model.add(ELU(alpha=1.0))\n",
    "model.add(MaxPooling2D(pool_size=(1, 1), name='pool5'))\n",
    "\n",
    "model.add(Flatten())\n",
    "model.add(Dense(16, activation='sigmoid', name='output'))\n",
    "\n",
    "model.compile(loss='categorical_crossentropy',\n",
    "              optimizer='sgd',\n",
    "              metrics=['accuracy'])\n",
    "\n",
    "model.summary()"
   ]
  },
  {
   "cell_type": "markdown",
   "metadata": {},
   "source": [
    "### Evaluation"
   ]
  },
  {
   "cell_type": "markdown",
   "metadata": {},
   "source": [
    "With a model in hand we can now train and evaluate it on our data. We will be using Scikit-Learn's train_test_split to make this a bit easier on ourselves."
   ]
  },
  {
   "cell_type": "code",
   "execution_count": null,
   "metadata": {},
   "outputs": [
    {
     "name": "stdout",
     "output_type": "stream",
     "text": [
      "Epoch 1/3\n"
     ]
    }
   ],
   "source": [
    "model.fit(X_train, y_train, epochs=3)\n",
    "\n",
    "#score_train = model.evaluate(X_train, y_train)\n",
    "score_test = model.evaluate(X_test, y_test)\n",
    "\n",
    "#print(\"Training Data Accuracy: {}\".format(score_train[1]))\n",
    "print(\"Test Data Accuracy: {}\".format(score_test[1]))"
   ]
  },
  {
   "cell_type": "code",
   "execution_count": null,
   "metadata": {},
   "outputs": [],
   "source": []
  }
 ],
 "metadata": {
  "kernelspec": {
   "display_name": "Python 3",
   "language": "python",
   "name": "python3"
  },
  "language_info": {
   "codemirror_mode": {
    "name": "ipython",
    "version": 3
   },
   "file_extension": ".py",
   "mimetype": "text/x-python",
   "name": "python",
   "nbconvert_exporter": "python",
   "pygments_lexer": "ipython3",
   "version": "3.6.3"
  }
 },
 "nbformat": 4,
 "nbformat_minor": 2
}
